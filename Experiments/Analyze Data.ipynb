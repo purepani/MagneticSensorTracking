{
 "cells": [
  {
   "cell_type": "code",
   "execution_count": 3,
   "id": "c6af77f5",
   "metadata": {
    "iooxa": {
     "id": {
      "block": "jw7NwouPrTB6K8ERXqQz",
      "project": "3hSUf1kbIiV7mOoe4IgH",
      "version": 1
     },
     "outputId": null
    },
    "tags": []
   },
   "outputs": [
    {
     "ename": "SyntaxError",
     "evalue": "invalid syntax (785382827.py, line 1)",
     "output_type": "error",
     "traceback": [
      "\u001b[0;36m  Cell \u001b[0;32mIn[3], line 1\u001b[0;36m\u001b[0m\n\u001b[0;31m    Satwik Pani%matplotlib widget\u001b[0m\n\u001b[0m           ^\u001b[0m\n\u001b[0;31mSyntaxError\u001b[0m\u001b[0;31m:\u001b[0m invalid syntax\n"
     ]
    }
   ],
   "source": [
    "Satwik Pani%matplotlib widget\n",
    "from jax.config import config\n",
    "config.update(\"jax_enable_x64\", True)"
   ]
  },
  {
   "cell_type": "code",
   "execution_count": 4,
   "id": "75dd9852",
   "metadata": {
    "iooxa": {
     "id": {
      "block": "O18KKYuOaLjkIRMl7yEQ",
      "project": "3hSUf1kbIiV7mOoe4IgH",
      "version": 1
     },
     "outputId": null
    },
    "tags": []
   },
   "outputs": [
    {
     "ename": "SyntaxError",
     "evalue": "invalid syntax (1398662939.py, line 1)",
     "output_type": "error",
     "traceback": [
      "\u001b[0;36m  Cell \u001b[0;32mIn[4], line 1\u001b[0;36m\u001b[0m\n\u001b[0;31m    Satwik Paniimport numpy as np\u001b[0m\n\u001b[0m           ^\u001b[0m\n\u001b[0;31mSyntaxError\u001b[0m\u001b[0;31m:\u001b[0m invalid syntax\n"
     ]
    }
   ],
   "source": [
    "Satwik Paniimport numpy as np\n",
    "import magpylib as magpy\n",
    "import matplotlib.pyplot as plt \n",
    "#from scipy.special import ellipk, ellipe, elliprf, elliprj \n",
    "from scipy.integrate import quad\n",
    "from scipy.spatial.transform import Rotation \n",
    "import scipy.optimize\n",
    "import pandas as pd\n",
    "import sklearn\n",
    "from scipy.interpolate import RBFInterpolator\n",
    "from scipy.interpolate import LinearNDInterpolator \n",
    " \n",
    "from sklearn.preprocessing import PolynomialFeatures\n",
    "from sklearn.linear_model import LinearRegression\n",
    "from sklearn.pipeline import Pipeline\n",
    "import einops as eo\n",
    "import joblib\n",
    "import dill \n",
    "import time\n",
    "from functools import partial\n",
    "import jax.numpy as jnp\n",
    "import jax.scipy as jsp\n",
    "import jax\n",
    "import sys\n",
    "\n",
    "\n",
    "x = jax.random.uniform(jax.random.PRNGKey(0), (1000,), dtype=jnp.float64)\n",
    "x.dtype # --> dtype('float64')\n"
   ]
  },
  {
   "cell_type": "code",
   "execution_count": null,
   "id": "a3e79d57",
   "metadata": {
    "iooxa": {
     "id": {
      "block": "idTqh3LvZpF5vIUCcyMG",
      "project": "3hSUf1kbIiV7mOoe4IgH",
      "version": 1
     },
     "outputId": null
    },
    "tags": []
   },
   "outputs": [],
   "source": [
    "Satwik Panidef ellipp(n, m):\n",
    "    n, m = (np.asarray(x) for x in (n, m))\n",
    "    if np.any(m >= 1):\n",
    "        raise ValueError(\"m must be < 1\")\n",
    "    y = 1 - m\n",
    "    rf = elliprf(0, y, 1)\n",
    "    rj = elliprj(0, y, 1, 1 - n)\n",
    "    return rf + rj * n / 3\n",
    "\n",
    "@jax.jit\n",
    "#assumes p is positive\n",
    "def ellipc(kc, p, c, s):\n",
    "    kc = jnp.asarray(kc, dtype=jnp.float64)\n",
    "    p = jnp.asarray(p, dtype=jnp.float64)\n",
    "    c = jnp.asarray(c, dtype=jnp.float64)\n",
    "    s = jnp.asarray(s, dtype=jnp.float64)\n",
    "    #print(p[p<=0])\n",
    "    #if jnp.any(jnp.equal(kc,0)):\n",
    "    #    raise ValueError(\"kc cannot be 0.\")\n",
    "    errtol=1e-10\n",
    "    k = jnp.abs(kc)\n",
    "\n",
    "    pp = p.copy()\n",
    "    cc = c.copy()\n",
    "    ss = s.copy() \n",
    "    em = 1.\n",
    "    cond = p>0 \n",
    "\n",
    "    #pp = pp.at[cond].set(jnp.sqrt(p[cond]))\n",
    "    #ss = ss.at[cond].set((s/pp)[cond])\n",
    "    pp = jnp.where(cond, jnp.sqrt(p), pp)\n",
    "    ss = jnp.where(cond, s/pp, ss)\n",
    "    #if not jnp.min(p, axis=None)>0:\n",
    "    #    f = kc[~cond]**2 \n",
    "    #    q = 1 - f\n",
    "    #    g = 1 - pp[~cond]\n",
    "    #    f = f - pp[~cond]\n",
    "    #    q = q*(ss[~cond]-c[~cond]*pp[~cond])\n",
    "    #    #pp = pp.at[~cond].set(np.sqrt(f/g))\n",
    "    #    pp = jnp.where(~cond, jnp.sqrt(f/g), pp)\n",
    "    #    cc = (c[~cond]-ss[~cond])/g\n",
    "    #    #ss = ss.at[~cond].set(-q/(pp[~cond]*g**2+cc*pp[~cond]))\n",
    "    #    ss = jnp.where(~cond, -q/(pp[~cond]*g**2+cc*pp[~cond]), ss)\n",
    "    f = cc.copy()\n",
    "    cc = cc + ss/pp\n",
    "    g = k/pp\n",
    "    ss = 2*(ss+f*g)\n",
    "    pp = g + pp\n",
    "    g = em\n",
    "    em = k + em\n",
    "    kk = k.copy()\n",
    "    #while(jnp.max(jnp.abs((g-k)/g))>errtol):\n",
    "    for i in range(10):\n",
    "        k = 2*jnp.sqrt(kk)\n",
    "        kk = k*em\n",
    "        f = cc.copy()\n",
    "        cc = cc + ss/pp\n",
    "        g = kk/pp\n",
    "        ss = 2*(ss+f*g)\n",
    "        pp = g + pp\n",
    "        g = em.copy()\n",
    "        em = k + em\n",
    "    return (jnp.pi/2)*(ss+cc*em)/(em*(em+pp))\n",
    "\n",
    "def ellipc_np(kc, p, c, s):\n",
    "    kc, p, c, s = (np.asarray(x, dtype = np.float64) for x in (kc, p, c, s))\n",
    "    #print(p[p<=0])\n",
    "    if np.any(kc==0):\n",
    "        raise ValueError(\"kc cannot be 0.\")\n",
    "    errtol=1e-10\n",
    "    k = np.abs(kc)\n",
    "\n",
    "    pp = p.copy()\n",
    "    cc = c.copy()\n",
    "    ss = s.copy() \n",
    "    em = 1.\n",
    "    cond = p>0 \n",
    "\n",
    "    pp[cond] = np.sqrt(p[cond])\n",
    "    ss[cond] = (s/pp)[cond]\n",
    "\n",
    "    if np.any(~cond):\n",
    "        f = kc[~cond]**2 \n",
    "        q = 1 - f\n",
    "        g = 1 - pp[~cond]\n",
    "        f = f - pp[~cond]\n",
    "        q = q*(ss[~cond]-c[~cond]*pp[~cond])\n",
    "        pp[~cond] = np.sqrt(f/g)\n",
    "        cc = (c[~cond]-ss[~cond])/g\n",
    "        ss[~cond] = (-q/(pp[~cond]*g**2+cc*pp[~cond]))\n",
    "    f = cc.copy()\n",
    "    cc = cc + ss/pp\n",
    "    g = k/pp\n",
    "    ss = 2*(ss+f*g)\n",
    "    pp = g + pp\n",
    "    g = em\n",
    "    em = k + em\n",
    "    kk = k.copy()\n",
    "    while(np.any(np.abs(g-k)>g*errtol)):\n",
    "        k = 2*np.sqrt(kk)\n",
    "        kk = k*em\n",
    "        f = cc.copy()\n",
    "        cc = cc + ss/pp\n",
    "        g = kk/pp\n",
    "        ss = 2*(ss+f*g)\n",
    "        pp = g + pp\n",
    "        g = em.copy()\n",
    "        em = k + em\n",
    "    return (np.pi/2)*(ss+cc*em)/(em*(em+pp))\n",
    " \n",
    "def test_ellipc(n, k):\n",
    "    m = k**2\n",
    "    kc = np.sqrt(1-m)\n",
    "    elliptic = np.array([ellipk(m), ellipe(m), ellipp(n, m)])\n",
    "    arg1 = np.array([kc, kc, kc])\n",
    "    arg2 = np.array([1, 1, -n+1])\n",
    "    arg3 = np.array([1, 1, 1])\n",
    "    arg4 = np.array([1, kc**2, 1])\n",
    "\n",
    "    elliptic_results = ellipc(arg1, arg2, arg3, arg4)\n",
    "    test_1 = np.allclose(elliptic, elliptic_results, 1e-7) \n",
    "    return test_1\n",
    "    \n",
    "@jax.jit\n",
    "def alpha(xi, rr, R):\n",
    "    return R/(jnp.sqrt(xi**2 +(rr+R)**2 ))\n",
    "@jax.jit\n",
    "def beta(xi, rr, R):\n",
    "    return xi/(jnp.sqrt(xi**2 +(rr+R)**2 ))\n",
    "\n",
    "@jax.jit\n",
    "def k(xi, rr, R):\n",
    "    num = (xi**2 + (R-rr)**2)\n",
    "    den = (xi**2 + (R+rr)**2)\n",
    "    return jnp.sqrt(num/den)\n",
    "\n",
    "def Br_func(rr, zz, R=0.03, L=0.02, C=1.4):\n",
    "    Bmax = C\n",
    "    M = (Bmax)*(np.sqrt(4*L**2 +R**2)/(2*L))\n",
    "\n",
    "    xi_p, xi_m = zz+L, zz-L\n",
    "    alpha_p, alpha_m = alpha(xi_p, rr, R), alpha(xi_m, rr, R)\n",
    "\n",
    "\n",
    "    kp, km = k(xi_p, rr, R), k(xi_m, rr, R)\n",
    "\n",
    "    Br = (M*R/np.pi)* (alpha_p*ellipc(kp, 1, 1, -1) - alpha_m*ellipc(km, 1, 1, -1))\n",
    "    return Br\n",
    "\n",
    "def Bz_polar_func(rr, zz, R=0.03, L=0.02, C=1.4):\n",
    "    Bmax = C\n",
    "    M = (Bmax)*(np.sqrt(4*L**2 +R**2)/(2*L))\n",
    "    xi_p, xi_m = zz+L, zz-L\n",
    "    beta_p, beta_m = beta(xi_p, rr, R), beta(xi_m, rr, R)\n",
    "    gamma = (R-rr)/(R+rr)\n",
    "\n",
    "    kp, km = k(xi_p, rr, R), k(xi_m, rr, R)\n",
    "\n",
    "    Bz = (R*M/(np.pi*(rr+R))) * (beta_p*ellipc(kp, gamma**2, 1, gamma) - beta_m*ellipc(km, gamma**2, 1, gamma))\n",
    "    return Bz\n",
    "\n",
    "\n",
    "def Bxyz_func(xx, yy, zz, R=3, L=2, C=1e3):\n",
    "    tt = np.arctan2(yy,xx)\n",
    "    rr = np.sqrt(xx**2 + yy**2)\n",
    "    Br = Br_func(rr, zz, R, L, C)\n",
    "    Bx = Br * np.cos(tt)\n",
    "    By = Br * np.sin(tt)\n",
    "    Bz = Bz_polar_func(rr, zz, R, L, C)\n",
    "    return Bx, By, Bz\n",
    "\n",
    "#def Bx_func(xx, yy, zz, R=3, L=2, C=1e3):\n",
    "#    tt = np.arctan2(yy,xx)\n",
    "#    rr = np.sqrt(xx**2 + yy**2)\n",
    "#    Br = Br_func(rr, zz, R, L, C)\n",
    "#    Bx = Br * np.cos(tt)\n",
    "#    return Bx\n",
    "\n",
    "#def By_func(xx, yy, zz, R=3, L=2, C=1e3):\n",
    "#    tt = np.arctan2(yy,xx)\n",
    "#    rr = np.sqrt(xx**2 + yy**2)\n",
    "#    Br = Br_func(rr, zz, R, L, C)\n",
    "#    By = Br * np.sin(tt)\n",
    "#    return By\n",
    "\n",
    "#def Bz_func(xx, yy, zz, R=3, L=2, C=1e3):\n",
    "#    rr = np.sqrt(xx**2 + yy**2)\n",
    "#    Bz = Bz_polar_func(rr, zz, R, L, C)\n",
    "#    return Bz\n",
    "\n",
    "def Bx_func(xx, yy, zz, R=3, L=2, C=1e3):\n",
    "    return Bxyz_func(xx, yy, zz, R, L, C)[0]\n",
    "\n",
    "def By_func(xx, yy, zz, R=3, L=2, C=1e3):\n",
    "    return Bxyz_func(xx, yy, zz, R, L, C)[1]\n",
    "\n",
    "def Bz_func(xx, yy, zz, R=3, L=2, C=1e3):\n",
    "    return Bxyz_func(xx, yy, zz, R, L, C)[2]\n",
    "\n",
    "def Bx(X, x0, y0, z0, rx, ry, rz, R, L, C):\n",
    "    rot_vec = np.array([rx, ry, rz])\n",
    "    r = Rotation.from_rotvec(rot_vec)\n",
    "    Xrot = r.apply(X.T).T\n",
    "    x, y, z = Xrot\n",
    "    xin, yin, zin = x-x0, y-y0, z-z0\n",
    "\n",
    "    Bx = Bx_func(xin, yin, zin, R, L, C)\n",
    "    return Bx\n",
    "\n",
    "\n",
    "def By(X, x0, y0, z0, rx, ry, rz, R, L, C):\n",
    "    rot_vec = np.array([rx, ry, rz])\n",
    "    r = Rotation.from_rotvec(rot_vec)\n",
    "    Xrot = r.apply(X.T).T\n",
    "    x, y, z = Xrot\n",
    "    xin, yin, zin = x-x0, y-y0, z-z0\n",
    "\n",
    "    By = By_func(xin, yin, zin, R, L, C)\n",
    "    return By\n",
    "\n",
    "def Bz(X, x0, y0, z0, rx, ry, rz, R, L, C):\n",
    "    rot_vec = np.array([rx, ry, rz])\n",
    "    r = Rotation.from_rotvec(rot_vec)\n",
    "    Xrot = r.apply(X.T).T\n",
    "    x, y, z = Xrot\n",
    "    xin, yin, zin = x-x0, y-y0, z-z0\n",
    "\n",
    "    Bz = Bz_func(xin, yin, zin, R, L, C)\n",
    "    return Bz\n",
    "\n",
    "\n",
    "def Bx_no_rot(x0, y0, z0, R, L, X, C):\n",
    "    x, y, z = X\n",
    "    xin, yin, zin = x-x0, y-y0, z-z0\n",
    "\n",
    "    Bx = Bx_func(xin, yin, zin, R, L, C)\n",
    "    return Bx\n",
    "\n",
    "\n",
    "def By_no_rot(x0, y0, z0, R, L, X, C):\n",
    "    x, y, z = X\n",
    "    xin, yin, zin = x-x0, y-y0, z-z0\n",
    "\n",
    "    By = By_func(xin, yin, zin, R, L, C)\n",
    "    return By\n",
    "\n",
    "def Bz_no_rot(x0, y0, z0, R, L, X, C):\n",
    "    x, y, z = X\n",
    "    xin, yin, zin = x-x0, y-y0, z-z0\n",
    "\n",
    "    Bz = Bz_func(xin, yin, zin, R, L, C)\n",
    "    return Bz"
   ]
  },
  {
   "cell_type": "code",
   "execution_count": null,
   "id": "af8ed602",
   "metadata": {
    "iooxa": {
     "id": {
      "block": "hL8RLOP1HFVNy3OxyAOB",
      "project": "3hSUf1kbIiV7mOoe4IgH",
      "version": 1
     },
     "outputId": null
    },
    "tags": []
   },
   "outputs": [],
   "source": [
    "Satwik Panifolder = \"data/PIM_03202023\"\n",
    "file_name = \"DataAvg.txt\"\n",
    "file = f\"{folder}/{file_name}\"\n",
    "\n",
    "shape_points = {\"i\":7*10+1,\"j\": 7*10+1,\"k\": 6*5+2}\n",
    "\n",
    "df = pd.read_csv(file).sort_values([\"z\", \"y\", \"x\"])\n",
    "\n",
    "X = np.array(df.loc[:, \"x\":\"z\"]) # unpacks to x, y, z\n",
    "M = np.array(df.loc[:, \"Mx\":\"Mz\"])\n",
    "df\n"
   ]
  },
  {
   "cell_type": "code",
   "execution_count": null,
   "id": "4caa7843",
   "metadata": {
    "iooxa": {
     "id": {
      "block": "aJK9UR00mJfN80eScsIb",
      "project": "3hSUf1kbIiV7mOoe4IgH",
      "version": 2
     },
     "outputId": {
      "block": "i5VJNtpFiehk3Y4fiVZk",
      "project": "3hSUf1kbIiV7mOoe4IgH",
      "version": 2
     }
    },
    "tags": []
   },
   "outputs": [],
   "source": [
    "Satwik Paniimport numpy as np\n",
    "import magpylib as magpy\n",
    "import pyvista as pv\n",
    "\n",
    "pv.set_jupyter_backend('client') # improve rending in a jupyter notebook\n",
    "\n",
    "coil1 = magpy.Collection()\n",
    "#for z in np.linspace(-8, 8, 16):\n",
    "#    winding = magpy.current.Loop(\n",
    "#        current=100,\n",
    "#        diameter=2,\n",
    "#        position=(0,0,z),\n",
    "#    )\n",
    "#    coil1.add(winding)\n",
    "\n",
    "\n",
    "grid = pv.UniformGrid(\n",
    "    dimensions=list(shape_points.values()),\n",
    "    spacing=(0.2, 0.2, 0.2),\n",
    "    origin=(-5, -5, 0),\n",
    ")\n",
    "\n",
    "# compute B-field and add as data to grid\n",
    "#grid['B'] = coil1.getB(grid.points)\n",
    "grid['B'] = M\n",
    "print(grid['B'].shape)\n",
    "\n",
    "# compute field lines\n",
    "seed = pv.Disc(inner=0.2, outer=2, r_res=10, c_res=63)\n",
    "strl = grid.streamlines_from_source(\n",
    "    seed,\n",
    "    vectors='B',\n",
    "    max_time=180,\n",
    "    initial_step_length=0.01,\n",
    "    integration_direction='both',\n",
    "    progress_bar=True\n",
    ")\n",
    "\n",
    "# create plotting scene\n",
    "pl = pv.Plotter()\n",
    "\n",
    "# add field lines and legend to scene\n",
    "legend_args = {\n",
    "    'title': 'B [mT]',\n",
    "    'title_font_size': 20,\n",
    "    'color': 'black',\n",
    "    'position_y': 0.25,\n",
    "    'vertical': True,\n",
    "}\n",
    "\n",
    "# draw coils\n",
    "# magpy.show(coil1, canvas=pl, backend='pyvista')\n",
    "\n",
    "# add streamlines\n",
    "pl.add_mesh(\n",
    "    strl.tube(radius=.02),\n",
    "    cmap=\"RdBu\",\n",
    "    scalar_bar_args=legend_args,\n",
    ")\n",
    "# display scene\n",
    "pl.camera.position=(160, 10, -10)\n",
    "pl.set_background(\"white\")\n",
    "pl.show()"
   ]
  },
  {
   "cell_type": "code",
   "execution_count": null,
   "id": "d309a278",
   "metadata": {
    "iooxa": {
     "id": {
      "block": "aBd09pSu3heN4ISJc973",
      "project": "3hSUf1kbIiV7mOoe4IgH",
      "version": 1
     },
     "outputId": null
    },
    "tags": []
   },
   "outputs": [],
   "source": [
    "Satwik Pani#\n",
    "import numpy as np\n",
    "import matplotlib.pyplot as plt\n",
    "import matplotlib.cm as cm\n",
    "import magpylib as magpy\n",
    "from matplotlib.widgets import Slider, Button\n",
    "import plotly.graph_objects as go\n",
    "from ipywidgets import interact, FloatSlider, interactive_output, HBox, VBox\n",
    "from IPython.display import display\n",
    "\n",
    "df_xy = (df[df[\"z\"]==0]) \n",
    "\n",
    "\n",
    "\n",
    "M_magnitude = np.linalg.norm(eo.rearrange(M,\"(i j k) c -> i j k c\", **shape_points), axis=2)\n",
    "\n",
    "cmap = plt.cm.viridis\n",
    "norm = plt.Normalize(M_magnitude.min(), M_magnitude.max())\n",
    "\n",
    "X_z = eo.rearrange(np.array(df_xy.loc[:, \"x\":\"z\"]), \"(i j) c -> i j c\", i=shape_points[\"i\"], j=shape_points[\"j\"])\n",
    "\n",
    "\n",
    "M_z = eo.rearrange(np.array(df_xy.loc[:, \"Mx\":\"Mz\"]), \"(i j) c -> i j c\", i=shape_points[\"i\"], j=shape_points[\"j\"])\n",
    "    \n",
    "x = X_z[:, :, 0]\n",
    "y = X_z[:, :, 1]\n",
    "\n",
    "u = M_z[:, :, 1]\n",
    "v = -M_z[:, :, 0]"
   ]
  },
  {
   "cell_type": "code",
   "execution_count": null,
   "id": "1be0a473",
   "metadata": {
    "iooxa": {
     "id": {
      "block": "83NRlB9yyJsdwQioifiI",
      "project": "3hSUf1kbIiV7mOoe4IgH",
      "version": 2
     },
     "outputId": {
      "block": "dumg6LTP3aAo31XZpi0V",
      "project": "3hSUf1kbIiV7mOoe4IgH",
      "version": 2
     }
    },
    "tags": []
   },
   "outputs": [],
   "source": [
    "Satwik Panifig, ax = plt.subplots(figsize=(4, 4))\n",
    "#fig.colorbar()\n",
    "\n",
    "fig.colorbar(cm.ScalarMappable(norm=norm, cmap=cmap), ax=ax)\n",
    "#plt.colorbar(cm.ScalarMappable(norm=norm, cmap=cmap))\n",
    "#@interact(z=FloatSlider(min=0, max=5, step=0.2, value=1.2, description='z (mm)'))\n",
    "def plot_streamlines(z):\n",
    "    df_xy = df[df[\"z\"]==z] \n",
    "    X_z = eo.rearrange(np.array(df_xy.loc[:, \"x\":\"z\"]), \"(i j) c -> i j c\", i=shape_points[\"i\"], j=shape_points[\"j\"]) # unpacks to x, y, z\n",
    "    M_z = eo.rearrange(np.array(df_xy.loc[:, \"Mx\":\"Mz\"]), \"(i j) c -> i j c\", i=shape_points[\"j\"], j=shape_points[\"i\"])\n",
    "    \n",
    "\n",
    "    \n",
    "    x = X_z[:, :, 0]\n",
    "    y = X_z[:, :, 1]\n",
    "\n",
    "    u = M_z[:, :, 1]\n",
    "    v = -M_z[:, :, 0]\n",
    "\n",
    "    Mz_magnitude = np.linalg.norm(M_z, axis=2)\n",
    "    \n",
    "   \n",
    "    cmap = plt.cm.viridis\n",
    "    norm = plt.Normalize(Mz_magnitude.min(), Mz_magnitude.max())\n",
    "    \n",
    "    \n",
    "    ax.clear()\n",
    "    ax.streamplot(x, y, u, v, density=0.5, linewidth=1, color=Mz_magnitude, cmap=cmap)\n",
    "    ax.set_xlabel('X-axis')\n",
    "    ax.set_ylabel('Y-axis')\n",
    "    ax.grid()\n",
    "    ax.set_title(f\"2D Streamline Plot (z: {z} mm)\")\n",
    "    # Update the plot\n",
    "    fig.canvas.draw_idle()\n",
    "plot_streamlines(1)\n",
    "\n",
    "    "
   ]
  },
  {
   "cell_type": "code",
   "execution_count": null,
   "id": "f0067e9e",
   "metadata": {
    "tags": []
   },
   "outputs": [],
   "source": [
    "Satwik Panifig, ax = plt.subplots(figsize=(4, 4))\n",
    "plot_streamlines(3)\n"
   ]
  },
  {
   "cell_type": "code",
   "execution_count": null,
   "id": "c68bf178",
   "metadata": {
    "tags": []
   },
   "outputs": [],
   "source": [
    "import scipy as sp\n",
    "sensor = magpy.Sensor(position=(0,0,0))\n",
    "magnet = magpy.magnet.Cylinder(magnetization=(0, 0, 1210), dimension=(5, 2))\n",
    "\n",
    "\n",
    "\n",
    "\n",
    "folder = \"data/PIM_03202023\"\n",
    "file_name = \"DataAvg.txt\"\n",
    "file = f\"{folder}/{file_name}\"\n",
    "\n",
    "shape_points = {\"i\":7*10+1,\"j\": 7*10+1,\"k\": 6*5+2}\n",
    "\n",
    "df = pd.read_csv(file).sort_values([\"z\", \"y\", \"x\"])\n",
    "\n",
    "\n",
    "X = np.array(df.loc[:, \"x\":\"z\"]) \n",
    "M = np.array(df.loc[:, \"Mx\":\"Mz\"])\n",
    "\n",
    "\n",
    "sensor.position = X\n",
    "\n",
    "def getField(x, sensor, magnet, dx=0.0001):\n",
    "    xdx = x + dx\n",
    "    magnet.magnetization=(0,0,x[5])\n",
    "    magnet.position = x[:3]\n",
    "    phi = x[3]\n",
    "    theta = x[4]\n",
    "    rot = [np.cos(theta/2), np.sin(theta/2)*np.cos(phi), np.sin(theta/2)*np.sin(phi), 0]\n",
    "    magnet.orientation = sp.spatial.transform.Rotation.from_quat(rot)\n",
    "\n",
    "    f = magpy.getB(sources=magnet, observers=sensor)\n",
    "    #xdx = x + dx\n",
    "    return f\n",
    "    \n",
    "\n",
    "def cost(x, B, sensor, magnet):\n",
    "    diff = getField(x, sensor, magnet)-B\n",
    "    return np.sum((diff)**2)\n",
    "\n",
    "guess = np.array([-5,-2,30, np.pi/8, np.pi/4, 1400])\n",
    "\n",
    "#sol = scipy.optimize.least_squares(cost, x0=guess, args=(M, sensor, magnet), bounds=([-7,-7,30,-np.pi,-np.pi, 1000],[7,7,50,np.pi, np.pi, 2000]))\n",
    "#sol.x, sol.success\n"
   ]
  },
  {
   "cell_type": "code",
   "execution_count": null,
   "id": "0ef244f1",
   "metadata": {
    "tags": []
   },
   "outputs": [],
   "source": [
    "#sol.x, sol.success, sol.message"
   ]
  },
  {
   "cell_type": "code",
   "execution_count": null,
   "id": "250775a0",
   "metadata": {
    "tags": []
   },
   "outputs": [],
   "source": [
    "#360*sol.x[3:5]/(2*np.pi)"
   ]
  },
  {
   "cell_type": "code",
   "execution_count": null,
   "id": "f1b153b3",
   "metadata": {
    "tags": []
   },
   "outputs": [],
   "source": [
    "#%timeit getField(guess, sensor, magnet)"
   ]
  },
  {
   "cell_type": "code",
   "execution_count": 5,
   "id": "77512031",
   "metadata": {
    "tags": []
   },
   "outputs": [
    {
     "ename": "NameError",
     "evalue": "name 'sp' is not defined",
     "output_type": "error",
     "traceback": [
      "\u001b[0;31m---------------------------------------------------------------------------\u001b[0m",
      "\u001b[0;31mNameError\u001b[0m                                 Traceback (most recent call last)",
      "Cell \u001b[0;32mIn[5], line 3\u001b[0m\n\u001b[1;32m      1\u001b[0m \u001b[38;5;28;01mdef\u001b[39;00m \u001b[38;5;21mC\u001b[39m(kc, p, c, s):\n\u001b[1;32m      2\u001b[0m     \u001b[38;5;28;01mreturn\u001b[39;00m c\u001b[38;5;241m*\u001b[39msp\u001b[38;5;241m.\u001b[39mspecial\u001b[38;5;241m.\u001b[39melliprf(\u001b[38;5;241m0\u001b[39m,kc\u001b[38;5;241m*\u001b[39m\u001b[38;5;241m*\u001b[39m\u001b[38;5;241m2\u001b[39m, \u001b[38;5;241m1\u001b[39m)\u001b[38;5;241m+\u001b[39m (\u001b[38;5;241m1\u001b[39m\u001b[38;5;241m/\u001b[39m\u001b[38;5;241m3\u001b[39m)\u001b[38;5;241m*\u001b[39m(c\u001b[38;5;241m-\u001b[39mp\u001b[38;5;241m*\u001b[39ms)\u001b[38;5;241m*\u001b[39msp\u001b[38;5;241m.\u001b[39mspecial\u001b[38;5;241m.\u001b[39melliprj(\u001b[38;5;241m0\u001b[39m, kc\u001b[38;5;241m*\u001b[39m\u001b[38;5;241m*\u001b[39m\u001b[38;5;241m2\u001b[39m, \u001b[38;5;241m1\u001b[39m, p)\n\u001b[0;32m----> 3\u001b[0m \u001b[43mget_ipython\u001b[49m\u001b[43m(\u001b[49m\u001b[43m)\u001b[49m\u001b[38;5;241;43m.\u001b[39;49m\u001b[43mrun_line_magic\u001b[49m\u001b[43m(\u001b[49m\u001b[38;5;124;43m'\u001b[39;49m\u001b[38;5;124;43mtimeit\u001b[39;49m\u001b[38;5;124;43m'\u001b[39;49m\u001b[43m,\u001b[49m\u001b[43m \u001b[49m\u001b[38;5;124;43m'\u001b[39;49m\u001b[38;5;124;43mC(0.1, 0.2, 0.3, 0.4)\u001b[39;49m\u001b[38;5;124;43m'\u001b[39;49m\u001b[43m)\u001b[49m\n",
      "File \u001b[0;32m~/Projects/MagneticSensorTracking/.devenv/state/venv/lib/python3.10/site-packages/IPython/core/interactiveshell.py:2414\u001b[0m, in \u001b[0;36mInteractiveShell.run_line_magic\u001b[0;34m(self, magic_name, line, _stack_depth)\u001b[0m\n\u001b[1;32m   2412\u001b[0m     kwargs[\u001b[38;5;124m'\u001b[39m\u001b[38;5;124mlocal_ns\u001b[39m\u001b[38;5;124m'\u001b[39m] \u001b[38;5;241m=\u001b[39m \u001b[38;5;28mself\u001b[39m\u001b[38;5;241m.\u001b[39mget_local_scope(stack_depth)\n\u001b[1;32m   2413\u001b[0m \u001b[38;5;28;01mwith\u001b[39;00m \u001b[38;5;28mself\u001b[39m\u001b[38;5;241m.\u001b[39mbuiltin_trap:\n\u001b[0;32m-> 2414\u001b[0m     result \u001b[38;5;241m=\u001b[39m \u001b[43mfn\u001b[49m\u001b[43m(\u001b[49m\u001b[38;5;241;43m*\u001b[39;49m\u001b[43margs\u001b[49m\u001b[43m,\u001b[49m\u001b[43m \u001b[49m\u001b[38;5;241;43m*\u001b[39;49m\u001b[38;5;241;43m*\u001b[39;49m\u001b[43mkwargs\u001b[49m\u001b[43m)\u001b[49m\n\u001b[1;32m   2416\u001b[0m \u001b[38;5;66;03m# The code below prevents the output from being displayed\u001b[39;00m\n\u001b[1;32m   2417\u001b[0m \u001b[38;5;66;03m# when using magics with decodator @output_can_be_silenced\u001b[39;00m\n\u001b[1;32m   2418\u001b[0m \u001b[38;5;66;03m# when the last Python token in the expression is a ';'.\u001b[39;00m\n\u001b[1;32m   2419\u001b[0m \u001b[38;5;28;01mif\u001b[39;00m \u001b[38;5;28mgetattr\u001b[39m(fn, magic\u001b[38;5;241m.\u001b[39mMAGIC_OUTPUT_CAN_BE_SILENCED, \u001b[38;5;28;01mFalse\u001b[39;00m):\n",
      "File \u001b[0;32m~/Projects/MagneticSensorTracking/.devenv/state/venv/lib/python3.10/site-packages/IPython/core/magics/execution.py:1170\u001b[0m, in \u001b[0;36mExecutionMagics.timeit\u001b[0;34m(self, line, cell, local_ns)\u001b[0m\n\u001b[1;32m   1168\u001b[0m \u001b[38;5;28;01mfor\u001b[39;00m index \u001b[38;5;129;01min\u001b[39;00m \u001b[38;5;28mrange\u001b[39m(\u001b[38;5;241m0\u001b[39m, \u001b[38;5;241m10\u001b[39m):\n\u001b[1;32m   1169\u001b[0m     number \u001b[38;5;241m=\u001b[39m \u001b[38;5;241m10\u001b[39m \u001b[38;5;241m*\u001b[39m\u001b[38;5;241m*\u001b[39m index\n\u001b[0;32m-> 1170\u001b[0m     time_number \u001b[38;5;241m=\u001b[39m \u001b[43mtimer\u001b[49m\u001b[38;5;241;43m.\u001b[39;49m\u001b[43mtimeit\u001b[49m\u001b[43m(\u001b[49m\u001b[43mnumber\u001b[49m\u001b[43m)\u001b[49m\n\u001b[1;32m   1171\u001b[0m     \u001b[38;5;28;01mif\u001b[39;00m time_number \u001b[38;5;241m>\u001b[39m\u001b[38;5;241m=\u001b[39m \u001b[38;5;241m0.2\u001b[39m:\n\u001b[1;32m   1172\u001b[0m         \u001b[38;5;28;01mbreak\u001b[39;00m\n",
      "File \u001b[0;32m~/Projects/MagneticSensorTracking/.devenv/state/venv/lib/python3.10/site-packages/IPython/core/magics/execution.py:158\u001b[0m, in \u001b[0;36mTimer.timeit\u001b[0;34m(self, number)\u001b[0m\n\u001b[1;32m    156\u001b[0m gc\u001b[38;5;241m.\u001b[39mdisable()\n\u001b[1;32m    157\u001b[0m \u001b[38;5;28;01mtry\u001b[39;00m:\n\u001b[0;32m--> 158\u001b[0m     timing \u001b[38;5;241m=\u001b[39m \u001b[38;5;28;43mself\u001b[39;49m\u001b[38;5;241;43m.\u001b[39;49m\u001b[43minner\u001b[49m\u001b[43m(\u001b[49m\u001b[43mit\u001b[49m\u001b[43m,\u001b[49m\u001b[43m \u001b[49m\u001b[38;5;28;43mself\u001b[39;49m\u001b[38;5;241;43m.\u001b[39;49m\u001b[43mtimer\u001b[49m\u001b[43m)\u001b[49m\n\u001b[1;32m    159\u001b[0m \u001b[38;5;28;01mfinally\u001b[39;00m:\n\u001b[1;32m    160\u001b[0m     \u001b[38;5;28;01mif\u001b[39;00m gcold:\n",
      "File \u001b[0;32m<magic-timeit>:1\u001b[0m, in \u001b[0;36minner\u001b[0;34m(_it, _timer)\u001b[0m\n",
      "Cell \u001b[0;32mIn[5], line 2\u001b[0m, in \u001b[0;36mC\u001b[0;34m(kc, p, c, s)\u001b[0m\n\u001b[1;32m      1\u001b[0m \u001b[38;5;28;01mdef\u001b[39;00m \u001b[38;5;21mC\u001b[39m(kc, p, c, s):\n\u001b[0;32m----> 2\u001b[0m     \u001b[38;5;28;01mreturn\u001b[39;00m c\u001b[38;5;241m*\u001b[39m\u001b[43msp\u001b[49m\u001b[38;5;241m.\u001b[39mspecial\u001b[38;5;241m.\u001b[39melliprf(\u001b[38;5;241m0\u001b[39m,kc\u001b[38;5;241m*\u001b[39m\u001b[38;5;241m*\u001b[39m\u001b[38;5;241m2\u001b[39m, \u001b[38;5;241m1\u001b[39m)\u001b[38;5;241m+\u001b[39m (\u001b[38;5;241m1\u001b[39m\u001b[38;5;241m/\u001b[39m\u001b[38;5;241m3\u001b[39m)\u001b[38;5;241m*\u001b[39m(c\u001b[38;5;241m-\u001b[39mp\u001b[38;5;241m*\u001b[39ms)\u001b[38;5;241m*\u001b[39msp\u001b[38;5;241m.\u001b[39mspecial\u001b[38;5;241m.\u001b[39melliprj(\u001b[38;5;241m0\u001b[39m, kc\u001b[38;5;241m*\u001b[39m\u001b[38;5;241m*\u001b[39m\u001b[38;5;241m2\u001b[39m, \u001b[38;5;241m1\u001b[39m, p)\n",
      "\u001b[0;31mNameError\u001b[0m: name 'sp' is not defined"
     ]
    }
   ],
   "source": [
    "def C(kc, p, c, s):\n",
    "    return c*sp.special.elliprf(0,kc**2, 1)+ (1/3)*(c-p*s)*sp.special.elliprj(0, kc**2, 1, p)\n",
    "%timeit C(0.1, 0.2, 0.3, 0.4)"
   ]
  },
  {
   "cell_type": "code",
   "execution_count": null,
   "id": "23fa67b7",
   "metadata": {
    "tags": []
   },
   "outputs": [],
   "source": [
    " #rot_vec = theta*np.array([np.cos(phi), np.sin(phi), 0])\n",
    "  #  r = Rotation.from_rotvec(rot_vec)\n",
    "   # Xrot = r.apply(X.T).T\n",
    "    #x, y, z = Xrot\n",
    "    #xin, yin, zin = x-x0, y-y0, z-z0\n",
    "def B_np(position, R=0.03, L=0.02, Bmax=1.4):\n",
    "    C=ellipc_np\n",
    "    xx, yy, zz = position.T\n",
    "    tt = np.arctan2(yy,xx)\n",
    "    rr = np.sqrt(xx**2 + yy**2)\n",
    "    M = (Bmax)*(np.sqrt(4*L**2 +R**2)/(2*L))\n",
    "\n",
    "    xi_p, xi_m = zz+L, zz-L\n",
    "    alpha_p, alpha_m = alpha(xi_p, rr, R), alpha(xi_m, rr, R)\n",
    "    beta_p, beta_m = beta(xi_p, rr, R), beta(xi_m, rr, R)\n",
    "    gamma = (R-rr)/(R+rr)\n",
    "\n",
    "\n",
    "    kp, km = k(xi_p, rr, R), k(xi_m, rr, R)\n",
    "\n",
    "    Br = (M*R/np.pi)* (alpha_p*C(kp, 1, 1, -1) - alpha_m*C(km, 1, 1, -1))\n",
    "    Bx = Br * np.cos(tt)\n",
    "    By = Br * np.sin(tt)\n",
    "    Bz = (R*M/(np.pi*(rr+R))) * (beta_p*C(kp, gamma**2, 1, gamma) - beta_m*C(km, gamma**2, 1, gamma))\n",
    "\n",
    "    return Br, Bz\n",
    "\n",
    "@jax.jit\n",
    "def B_jnp(position, R=0.025, L=0.02, Bmax=1.4):\n",
    "    C=ellipc\n",
    "    xx, yy, zz = jnp.asarray(position).T\n",
    "    tt = jnp.arctan2(yy,xx)\n",
    "    rr = jnp.sqrt(xx**2 + yy**2)\n",
    "    M = (Bmax)*(jnp.sqrt(4*L**2 +R**2)/(2*L))\n",
    "\n",
    "    xi_p, xi_m = zz+L, zz-L\n",
    "    alpha_p, alpha_m = alpha(xi_p, rr, R), alpha(xi_m, rr, R)\n",
    "    beta_p, beta_m = beta(xi_p, rr, R), beta(xi_m, rr, R)\n",
    "    gamma = (R-rr)/(R+rr)\n",
    "\n",
    "\n",
    "    kp, km = k(xi_p, rr, R), k(xi_m, rr, R)\n",
    "\n",
    "    Br = (M*R/jnp.pi)* (alpha_p*C(kp, 1, 1, -1) - alpha_m*C(km, 1, 1, -1))\n",
    "    Bx = Br * jnp.cos(tt)\n",
    "    By = Br * jnp.sin(tt)\n",
    "    Bz = (R*M/(jnp.pi*(rr+R))) * (beta_p*C(kp, gamma**2, 1, gamma) - beta_m*C(km, gamma**2, 1, gamma))\n",
    "\n",
    "    return jnp.array([Bx, By, Bz])\n",
    "\n",
    "@jax.jit\n",
    "def B_dipole(position, rotation, M0, shape=(25.4*3/16, 25.4/16)):\n",
    "    R = jnp.sqrt(jnp.sum(position**2))\n",
    "    B = (M0*(shape[0]/2)**2 * shape[1] *jnp.pi /( 4*jnp.pi))*((3*position*(jnp.matmul(position, rotation))[:, jnp.newaxis]/R**5)-rotation/R**3)\n",
    "    return B\n",
    "\n",
    "@jax.jit\n",
    "def getField_dipole(x, positions):\n",
    "    #magnetization=x[5]\n",
    "    magnetization=1210\n",
    "    position = x[:3]\n",
    "    phi = x[3]\n",
    "    theta = x[4]\n",
    "    axis = jnp.array([jnp.sin(theta)*jnp.cos(phi), jnp.sin(theta)*jnp.sin(phi), jnp.cos(theta)])\n",
    "    return B_dipole(positions-position, axis, magnetization)\n",
    "@jax.jit\n",
    "def rotation_matrix(axis, theta):\n",
    "        \"\"\"\n",
    "        Return the rotation matrix associated with counterclockwise rotation about\n",
    "        the given axis by theta radians.\n",
    "        \"\"\"\n",
    "        axis = jnp.asarray(axis)\n",
    "        axis = axis / jnp.sqrt(jnp.dot(axis, axis))\n",
    "        a = jnp.cos(theta / 2.0)\n",
    "        b, c, d = -axis * jnp.sin(theta / 2.0)\n",
    "        aa, bb, cc, dd = a * a, b * b, c * c, d * d\n",
    "        bc, ad, ac, ab, bd, cd = b * c, a * d, a * c, a * b, b * d, c * d\n",
    "        return jnp.array([[aa + bb - cc - dd, 2 * (bc + ad), 2 * (bd - ac)],\n",
    "                        [2 * (bc - ad), aa + cc - bb - dd, 2 * (cd + ab)],\n",
    "                        [2 * (bd + ac), 2 * (cd - ab), aa + dd - bb - cc]])\n",
    "\n",
    "\n",
    "@jax.jit\n",
    "def getField_jnp(x, positions):\n",
    "    magnetization=x[5]\n",
    "    #magnetization=1200\n",
    "    position = x[:3]\n",
    "    phi = x[3]\n",
    "    theta = x[4]\n",
    "    axis = jnp.array([jnp.cos(phi), jnp.sin(phi), 0])\n",
    "    pos_trans = jnp.einsum(\"i j, k j ->k i\" ,rotation_matrix(-axis, -theta), positions)-position\n",
    "    \n",
    "    return B_jnp(pos_trans, Bmax=magnetization).T\n",
    "\n",
    "@jax.jit\n",
    "def cost_jnp(x, B, positions):            \n",
    "    diff = getField_jnp(x, positions)-B\n",
    "    return np.sum((diff)**2)\n",
    "\n",
    "\n",
    "@jax.jit\n",
    "def cost_dipole(x, B, positions):\n",
    "    diff = getField_dipole(x, positions)-B\n",
    "    return np.sum((diff)**2)\n"
   ]
  },
  {
   "cell_type": "code",
   "execution_count": null,
   "id": "1f6c859a",
   "metadata": {
    "tags": []
   },
   "outputs": [],
   "source": [
    "from jax.scipy import optimize\n",
    "guess = np.array([-1,-1, 40, np.pi/8, np.pi/4])\n",
    "#sol = optimize.minimize(cost_jnp, x0=guess, args=(M, X), method=\"BFGS\", tol=1e-6, options={\"gtol\": 1e-6})"
   ]
  },
  {
   "cell_type": "code",
   "execution_count": null,
   "id": "09b7f886",
   "metadata": {
    "tags": []
   },
   "outputs": [],
   "source": [
    "#sol.x, sol.status, sol.fun"
   ]
  },
  {
   "cell_type": "code",
   "execution_count": null,
   "id": "5989786e",
   "metadata": {
    "tags": []
   },
   "outputs": [],
   "source": [
    "#360*sol.x[3:5]/(2*np.pi)"
   ]
  },
  {
   "cell_type": "code",
   "execution_count": null,
   "id": "58b1cf21",
   "metadata": {
    "tags": []
   },
   "outputs": [],
   "source": [
    "guess = np.array([7,7, 40, jnp.pi/3, jnp.pi/3])\n",
    "cost_with_grad = jax.value_and_grad(cost_dipole)\n",
    "bounds=([-7,-7,-100,-4*np.pi,-2*np.pi],[7,7,100,4*np.pi, 2*np.pi])\n",
    "bounds = list(zip(*bounds))\n",
    "sol = scipy.optimize.minimize(cost_with_grad, x0=guess, args=(M, X), jac=True, bounds=bounds, tol=1e-1000)\n",
    "sol.x, sol.success"
   ]
  },
  {
   "cell_type": "code",
   "execution_count": null,
   "id": "8eac27eb",
   "metadata": {
    "tags": []
   },
   "outputs": [],
   "source": [
    "sol.x, sol.status, sol.fun, "
   ]
  },
  {
   "cell_type": "code",
   "execution_count": null,
   "id": "fb92c9f6",
   "metadata": {
    "tags": []
   },
   "outputs": [],
   "source": [
    "360*sol.x[3:5]/(2*np.pi)"
   ]
  },
  {
   "cell_type": "code",
   "execution_count": null,
   "id": "da5929d6",
   "metadata": {},
   "outputs": [],
   "source": [
    "diff = np.abs(getField_dipole(sol.x, X)-M)\n",
    "np.max(diff), np.min(diff), np.mean(diff)"
   ]
  },
  {
   "cell_type": "code",
   "execution_count": null,
   "id": "a1ba2f92",
   "metadata": {},
   "outputs": [],
   "source": [
    "sol = scipy.optimize.minimize(cost_with_grad, x0=guess, args=(M[::], X[::]), jac=True, bounds=bounds, tol=1e-1000)\n",
    "sol.x, sol.success"
   ]
  },
  {
   "cell_type": "code",
   "execution_count": null,
   "id": "c0fc3e90-dce5-4b27-a030-1d0e5b0175f3",
   "metadata": {
    "tags": []
   },
   "outputs": [],
   "source": [
    "360*sol.x[3:5]/(2*np.pi)"
   ]
  },
  {
   "cell_type": "code",
   "execution_count": null,
   "id": "e39e871b-0356-4463-b27b-5ee637d2d097",
   "metadata": {
    "tags": []
   },
   "outputs": [],
   "source": []
  },
  {
   "cell_type": "code",
   "execution_count": null,
   "id": "2fae7afd-cfc5-44dc-91da-e9f6ddb7c06b",
   "metadata": {},
   "outputs": [],
   "source": []
  },
  {
   "cell_type": "code",
   "execution_count": null,
   "id": "84878d16-b758-4433-8838-74d77e4ea806",
   "metadata": {},
   "outputs": [],
   "source": []
  }
 ],
 "metadata": {
  "iooxa": {
   "id": {
    "block": "YyLmRKjnQJ4mro09XJJY",
    "project": "3hSUf1kbIiV7mOoe4IgH",
    "version": 2
   }
  },
  "kernelspec": {
   "display_name": "Python 3 (ipykernel)",
   "language": "python",
   "name": "python3"
  },
  "language_info": {
   "codemirror_mode": {
    "name": "ipython",
    "version": 3
   },
   "file_extension": ".py",
   "mimetype": "text/x-python",
   "name": "python",
   "nbconvert_exporter": "python",
   "pygments_lexer": "ipython3",
   "version": "3.10.10"
  }
 },
 "nbformat": 4,
 "nbformat_minor": 5
}
